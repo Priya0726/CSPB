{
 "cells": [
  {
   "cell_type": "markdown",
   "metadata": {},
   "source": [
    "---\n",
    "toc: true\n",
    "comments: false\n",
    "layout: post\n",
    "title: Week 7 Schedule\n",
    "description: My Plan and accomplishments for Week 7\n",
    "courses: { csp: {week: 7} }\n",
    "type: Plans\n",
    "---"
   ]
  },
  {
   "cell_type": "code",
   "execution_count": null,
   "metadata": {},
   "outputs": [],
   "source": [
    "''' In week 7 we started reasearching for different APIs that we could use for our Bio-Modeling Night at the Museum Project.\n",
    "\n",
    " We also began to work on API project, became familiarized with concepts such as backend, frontend, as well as more general CS jargon such as scrum master, agile development. \n",
    " Some of the issues that we started to face was trouble with integrating the backend and the frontend. '''\n",
    " "
   ]
  },
  {
   "cell_type": "code",
   "execution_count": null,
   "metadata": {},
   "outputs": [],
   "source": [
    "# This week we also had our first student teaching group that presented. \n",
    "# - Algorithms \n",
    "# I learned about algorithms as well as learned more about how to understand them. \n",
    "\n",
    "# My Code that I wrote for it was: \n",
    "\n",
    "def is_palindrome(input_string):\n",
    "    # Remove spaces and convert to lowercase for case-insensitive comparison\n",
    "    input_string = input_string.replace(\" \", \"\").lower()\n",
    "    \n",
    "    # Check if the string is equal to its reverse\n",
    "    return input_string == input_string[::-1]\n",
    "\n",
    "# Example string \"racecar\"\n",
    "example_string = \"racecar\"\n",
    "\n",
    "if is_palindrome(example_string):\n",
    "    print(f\"'{example_string}' is a palindrome!\")\n",
    "else:\n",
    "    print(f\"'{example_string}' is not a palindrome.\")\n"
   ]
  }
 ],
 "metadata": {
  "language_info": {
   "name": "python"
  }
 },
 "nbformat": 4,
 "nbformat_minor": 2
}
