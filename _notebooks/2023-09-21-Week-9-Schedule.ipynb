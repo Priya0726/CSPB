{
 "cells": [
  {
   "cell_type": "markdown",
   "metadata": {},
   "source": [
    "---\n",
    "toc: true\n",
    "comments: false\n",
    "layout: post\n",
    "title: Week 9 Schedule\n",
    "description: My Plan and accomplishments for Week 9\n",
    "courses: { csp: {week: 9} }\n",
    "type: Plans\n",
    "---"
   ]
  },
  {
   "cell_type": "code",
   "execution_count": null,
   "metadata": {},
   "outputs": [],
   "source": [
    "''' This week we worked on our Bio-Modeling Night @ the Museum Project, as well as added the concepts such as API, Flask, Web Development,\n",
    "    AWS, and Local Host.\n",
    "    \n",
    "    - We also began to work on the College Board quizzes and familiarize ourselves with more intuitive understandings of concepts that were covered in class.'''"
   ]
  },
  {
   "cell_type": "code",
   "execution_count": null,
   "metadata": {},
   "outputs": [],
   "source": [
    "# In this week Student Teaching we learned about developing Algorithms\n",
    "\n",
    "# The code that we wrote for this homework/assignment is :\n",
    "\n",
    "test_scores = [100, 96, 83, 82, 85, 85, 83, 22, 56, 63]\n",
    "test_scores = sorted(test_scores)\n",
    "length = len(test_scores)\n",
    "\n",
    "if length % 2 == 0:\n",
    "    median = (test_scores[length // 2] + test_scores[length // 2 - 1])/2\n",
    "else:\n",
    "    median = test_scores[length // 2]\n",
    "print(int(median))\n",
    "import random\n",
    "ran_num = random.randint(1, 100)\n",
    "def how_much_off(num):\n",
    "    print(abs(num-ran_num))\n",
    "how_much_off(30)"
   ]
  },
  {
   "cell_type": "code",
   "execution_count": null,
   "metadata": {},
   "outputs": [],
   "source": [
    "# In this week we also learned about Lists and Search\n",
    "'''The homework assignment for this Lesson was:\n",
    "1) Write an expression that uses list indexing and list procedures. \n",
    "Write comments on your code to show what each line is doing.\n",
    "2) Write a python function that can determine the worst case number of iterations of a binary search for an array of length 20.'''\n",
    "\n",
    "l=[]\n",
    "for i in range(20):\n",
    "    l.append(i)\n",
    "count = 0\n",
    "while len(l) > 1:\n",
    "    l = l[:len(l)//2]\n",
    "    count +=1\n",
    "print(count)\n",
    "# define a list of test scores\n",
    "test_scores = [90, 98, 91, 84, 76, 93, 59]\n",
    "# find + replace test score of 59 with 92\n",
    "test_scores.remove(59) \n",
    "test_scores.append(92)\n",
    "# Takes the length of the list to find the number of tests\n",
    "num_students = len(test_scores)\n",
    "# use in built in sorting function to sort list\n",
    "sorted_test_scores = sorted(test_scores)\n",
    "# display new list\n",
    "print(sorted_test_scores)\n",
    "\n"
   ]
  }
 ],
 "metadata": {
  "language_info": {
   "name": "python"
  }
 },
 "nbformat": 4,
 "nbformat_minor": 2
}
