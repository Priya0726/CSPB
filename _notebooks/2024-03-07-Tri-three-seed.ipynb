{
 "cells": [
  {
   "cell_type": "markdown",
   "metadata": {},
   "source": [
    "\n",
    "## Introduction\n",
    "My Timester 2 final grade is a 92%, I have also been watching the collegeboard videos and taking the practice quizzes. In swicth from Computer science to data structures I have been following along in class to the debugging introduction, learning how to debug in our CPT project, as well as taking the Collegeboard MCQ.\n",
    "\n",
    "# Key Commits In Trimester 2\n",
    "Backend\n",
    "https://github.com/Priya0726/Final_Flask_Portfolio/commit/7bc440a9c69896fe481cea72d6f2a945f864f0f6\n",
    "Most heavy commits: \"edits\" and \"commit\"\n",
    "\n",
    "Frontend\n",
    "https://github.com/AnanyaAsudani/Frontend-CPT/commits/main/?author=Priya0726\n",
    "Most heavy commits: \"commit for logs\" and \"games+formatting\"\n",
    "\n",
    "## College Board Requirements for the CPT Project\n",
    "\n",
    "Link to college board requirements: https://apcentral.collegeboard.org/media/pdf/ap-csp-student-task-directions.pdf\n",
    "\n",
    "Example of all the work I contributed to the team CPT project last trimester.\n",
    "video link: https://youtu.be/8UyCKYpLhoE"
   ]
  }
 ],
 "metadata": {
  "language_info": {
   "name": "python"
  }
 },
 "nbformat": 4,
 "nbformat_minor": 2
}
