{
 "cells": [
  {
   "cell_type": "markdown",
   "metadata": {},
   "source": [
    "---\n",
    "toc: true\n",
    "comments: false\n",
    "layout: post\n",
    "title: Week 11 Schedule\n",
    "description: The description of my accomplishments and things I learned on week 11\n",
    "courses: { csp: {week: 11} }\n",
    "type: plans\n",
    "---"
   ]
  },
  {
   "cell_type": "code",
   "execution_count": null,
   "metadata": {},
   "outputs": [],
   "source": [
    "'''This week I mainly worked on the College Board Quizzes as well as the Exam 1 review quiz. \n",
    "While I was taking this quiz I got multiple questions that were really confusing and I didn't understand.\n",
    "In order to nit make those mistakes again, after my quiz, I put in the questions into ChatGPT and asked it to explain the questions to me.\n",
    "\n",
    "Question 1) Byte pair encoding is a data encoding technique. The encoding algorithm looks for pairs of characters that appear in the string more than once and replaces each instance of that pair with a corresponding character that does not appear in the string. The algorithm saves a list containing the mapping of character pairs to their corresponding replacement characters.\n",
    "\n",
    "For example, the string Open quotation, THIS, underscore, IS, underscore, THE, underscore, BEST, underscore, WISH, close quotation can be encoded as Open quotation, percent, hash, underscore, hash, underscore, percent E, underscore, BEST, underscore, W, hash, H, close quotation by replacing all instances of Open quotation, T H, close quotation with Open quotation, percent, close quotationand replacing all instances of Open quotation, I S, close quotation with Open quotation, hash, close quotation.\n",
    "\n",
    "Which of the following statements about byte pair encoding is true?\n",
    "\n",
    "Options:\n",
    "\n",
    "A) Byte pair encoding is an example of a lossy transformation because it discards some of the data in the original string.\n",
    "\n",
    "B) Byte pair encoding is an example of a lossy transformation because some pairs of characters are replaced by a single character.\n",
    "\n",
    "C) Byte pair encoding is an example of a lossless transformation because an encoded string can be restored to its original version.\n",
    "\n",
    "D) Byte pair encoding is an example of a lossless transformation because it can be used to transmit messages securely.\"'''\n",
    "\n",
    "# The explaintion for this question was: \n",
    "'''\n",
    "- Lossy Transformation: Lossy transformations are encoding techniques that discard some of the data from the original string, typically to reduce file size or for other reasons. \n",
    "Byte pair encoding, as described in the question, does not discard data from the original string. It replaces character pairs with new characters but keeps the original information intact, allowing the encoded string to be fully restored.\n",
    "\n",
    "- Lossless Transformation: A lossless transformation, like byte pair encoding, ensures that the original data can be exactly reconstructed from the encoded representation.\n",
    "In this case, the algorithm saves a mapping of character pairs to their corresponding replacement characters, enabling the reverse process of decoding, which returns the original string without any loss of information.'''\n",
    "\n",
    "#So, byte pair encoding is an example of a lossless transformation, and the correct statement is the third one."
   ]
  },
  {
   "cell_type": "code",
   "execution_count": null,
   "metadata": {},
   "outputs": [],
   "source": [
    "# Another Question that was very confusing to me was: question 22\n",
    "\n",
    "'''A student is creating a procedure to determine whether the weather for a particular month was considered very hot. The procedure takes as input a list containing daily high temperatures for a particular month. The procedure is intended to return true if the daily high temperature was at least 90 degrees for a majority of days in the month and return false otherwise.\n",
    "\n",
    "The program consists of 14 lines. Begin program Line 1: PROCEDURE, one word Is Hot, open parenthesis, one word temperature List, close parenthesis Line 2: open brace Line 3: total, left arrow, 0 Line 4: counter, left arrow, 0 Line 5: FOR EACH temperature IN, one word temperature List Line 6: open brace Line 7: IF, open parenthesis, temperature is greater than or equal to 90, close parenthesis Line 8: open brace Line 9: counter, left arrow, counter plus 1 Line 10: close brace Line 11: total, left arrow, total plus 1 Line 12: close brace Line 13: RETURN, open parenthesis,  MISSING CODE, close parenthesis Line 14: close brace End program. \n",
    "\n",
    "Which of the following can be used to replace missing code so that the procedure works as intended?\n",
    "\n",
    "Responses\n",
    "\n",
    "Counter, less than, 0 point 5, times, total\n",
    "Image with alt text: Counter, less than, 0 point 5, times, total\n",
    "\n",
    "Counter, greater than, 0 point 5, times, total\n",
    "Image with alt text: Counter, greater than, 0 point 5, times, total\n",
    "\n",
    "total, less than, 0 point 5, times, counter\n",
    "Image with alt text: total, less than, 0 point 5, times, counter'''\n",
    "\n",
    "# The correct answer after the explaination was \n",
    "# RETURN (counter > 0.5 * total)\n"
   ]
  }
 ],
 "metadata": {
  "language_info": {
   "name": "python"
  }
 },
 "nbformat": 4,
 "nbformat_minor": 2
}
