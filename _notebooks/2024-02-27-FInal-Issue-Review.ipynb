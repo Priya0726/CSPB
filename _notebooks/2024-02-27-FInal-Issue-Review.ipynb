{
 "cells": [
  {
   "cell_type": "markdown",
   "metadata": {},
   "source": [
    "\n",
    "## Overview\n",
    "46% of Americans experience diagnosable mental health conditions at some point in their life. Mental Health affects a large percent of the population and those who do not have diagnosable issues are not exempt from having to make time to take care of their mental health. This website not only gives a preliminary diagnosis but also provides a platform for users to give updates on their life and mental capacity, vent to AI and get helpful feedback from the comfort of their own homes, but also provides games to help increase attention span, calm mood, and more! \n",
    "\n",
    "# My Feature(s):\n",
    "## Feature #1:\n",
    "This feature is a relaxing game that does not require the users to concentrate much or use a lot of their mental energy. This game is a version of the 2048 game that is in a version of binary numbers which will also help the users learn a new skill. As they keep playing the game multiple time, it can help track how their mental capacity is increasing as they are taking in new information to practice a skill.\n",
    "\n",
    "## Feature #2:\n",
    "This feature is a type of diagnostic quiz that users will take to get instant results and feedback to their answers. It has a total of 10 questions that will help identify the depression levels of the user.\n",
    "\n",
    "# Key Commits\n",
    "Backend\n",
    "https://github.com/Priya0726/Final_Flask_Portfolio/commit/7bc440a9c69896fe481cea72d6f2a945f864f0f6\n",
    "Most heavy commits: \"edits\" and \"commit\"\n",
    "\n",
    "Frontend\n",
    "https://github.com/AnanyaAsudani/Frontend-CPT/commits/main/?author=Priya0726\n",
    "Most heavy commits: \"commit for logs\" and \"games+formatting\"\n",
    "\n",
    "## College Board Requirements\n",
    "\n",
    "Link to college board requirements: https://apcentral.collegeboard.org/media/pdf/ap-csp-student-task-directions.pdf\n",
    "\n",
    "| College Board Requirements | My Code | \n",
    "|-----------------|-----------------|\n",
    "|Use of at least one list to represent collection of data stored and used to manage program complexity.| ![Alt text](image.png)| \n",
    "| An algorithm that includes sequencing, selection, and iteration that is in the body of the selected procedure | ![Alt text](image-2.png) | \n",
    "| At least one procedure that contirubted to the program’s intened purpose where you have defined: the name, return type, one or more parameters:| ![Alt text](image-1.png) | \n",
    "| Instructions for output (tactile, audible, visual, or ) based on input and program functionality | ![Alt text](image-3.png) |\n",
    "\n",
    "\n",
    "# PART B- VIDEO\n",
    "\n",
    "Input to program- Text is inputted to database for mental health log\n",
    "At least one aspect of the functionality of your program- shows previous logs and AI generated response to inout\n",
    "Output produced by program:\tThe log bieng inputted into the database and showing all other logs.\n",
    "No voice narration\n",
    "Less than 1 min long and less than 30 MB file size\n",
    "\n",
    "\n",
    "video link: https://youtu.be/8UyCKYpLhoE"
   ]
  }
 ],
 "metadata": {
  "language_info": {
   "name": "python"
  }
 },
 "nbformat": 4,
 "nbformat_minor": 2
}
