{
 "cells": [
  {
   "cell_type": "markdown",
   "metadata": {},
   "source": [
    "---\n",
    "toc: true\n",
    "comments: false\n",
    "layout: post\n",
    "title: Dictionary\n",
    "description: A very useful and easy to use tool.\n",
    "courses: { csp: {week: 5} }\n",
    "type: hacks\n",
    "---"
   ]
  },
  {
   "cell_type": "code",
   "execution_count": null,
   "metadata": {},
   "outputs": [],
   "source": [
    "# Create a list of dictionaries, each representing a person\n",
    "people = [\n",
    "    {\n",
    "        \"name\": \"Anusha\",\n",
    "        \"age\": 14,\n",
    "        \"city\": \"San Diego\",\n",
    "        \"birthday\": \"May 31\"\n",
    "    },\n",
    "    {\n",
    "        \"name\": \"Prakruti\",\n",
    "        \"age\": 14,\n",
    "        \"city\": \"San Diego\",\n",
    "        \"birthday\": \"July\"\n",
    "    },\n",
    "    {\n",
    "        \"name\": \"Vidha\",\n",
    "        \"age\": 14,\n",
    "        \"city\": \"San Diego\",\n",
    "        \"birthday\": \"January 19\"\n",
    "    },\n",
    "    {\n",
    "        \"name\": \"Vibha\",\n",
    "        \"age\": 14,\n",
    "        \"city\": \"San Diego\",\n",
    "        \"birthday\": \"January 19\"\n",
    "    },\n",
    "    {\n",
    "        \"name\": \"Priya\",\n",
    "        \"age\": 15,\n",
    "        \"city\": \"San Diego\",\n",
    "        \"birthday\": \"May 26\"\n",
    "    }\n",
    "]\n",
    "\n",
    "# Iterate over each person's dictionary and perform operations\n",
    "for person in people:\n",
    "    print(\"\\nPerson's Info:\")\n",
    "    print(\"Name:\", person[\"name\"])\n",
    "    print(\"Age:\", person[\"age\"])\n",
    "    print(\"City:\", person[\"city\"])\n",
    "    print(\"Birthday:\", person[\"birthday\"])\n",
    "\n",
    "    # Update the age\n",
    "    person[\"age\"] += 1\n",
    "\n",
    "    # Add a new key-value pair\n",
    "    person[\"country\"] = \"USA\"\n",
    "\n",
    "    # Print the updated dictionary\n",
    "    print(\"Updated Dictionary:\", person)\n",
    "combined_age = 0\n",
    "for person in people:\n",
    "  combined_age += person[\"age\"]\n",
    "print(\"combined age = \" + str(combined_age))"
   ]
  }
 ],
 "metadata": {
  "language_info": {
   "name": "python"
  },
  "orig_nbformat": 4
 },
 "nbformat": 4,
 "nbformat_minor": 2
}
