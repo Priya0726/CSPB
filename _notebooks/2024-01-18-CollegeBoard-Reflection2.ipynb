{
 "cells": [
  {
   "cell_type": "markdown",
   "metadata": {},
   "source": [
    "---\n",
    "toc: true\n",
    "comments: true\n",
    "layout: post\n",
    "title: CollegeBoard Reflection\n",
    "description: Reflection on the questions missed in the 2020 practice exam on CollegeBoard.\n",
    "courses: { CSP: {week: 19} }\n",
    "type: hacks\n",
    "---"
   ]
  },
  {
   "cell_type": "markdown",
   "metadata": {},
   "source": [
    "## CollegeBoard Reflection\n",
    "\n",
    "Question 3: An algorithm is intended to display the following output.\n",
    "red red blue red red blue red red blue \n",
    "Which of the following code segments can be used to display the intended output? \n",
    "\n",
    "Correct Answer: C\n",
    "\n",
    "For each iteration of the outer loop, \"red\" is displayed two times and then \"blue\" is displayed one time. The outer loop iterates three times, so \"red red blue\" is displayed three times as intended.\n",
    "\n",
    "Question 6: The question below uses a robot in a grid of squares. The robot is represented as a triangle, which is initially in the bottom left square of the grid and facing right. The following programs are each intended to move the robot to the gray square. Program II uses the procedure GoalReached, which returns true if the robot is in the gray square and returns false otherwise. Which of the following statements best describes the correctness of the programs? \n",
    "\n",
    "Correct Answer: C - Program II correctly moves the robot to the gray square, but program I does not.\n",
    "\n",
    " Program I correctly moves the robot to the gray square by repeatedly moving the robot forward, rotating left, moving forward twice, and rotating right. Program II correctly moves the robot to the gray square by moving the robot forward to the bottom right corner of the grid, rotating left, moving the robot forward to the upper right corner of the grid, rotating left, and moving forward to the gray square.\n",
    "\n",
    "Question 11: A color in a computing application is represented by an RGB triplet that describes the amount of red, green, and blue, respectively, used to create the desired color. A selection of colors and their corresponding RGB triplets are shown in the following table. Each value is represented in decimal (base 10). According to information in the table, what color is represented by the binary RGB triplet (11111111, 11111111, 11110000)?\n",
    "\n",
    "Correct Answer: A - Ivory\n",
    "\n",
    "Correct. The binary number 11111111 is equal to 255. The binary number 11110000 is equal to 240. Therefore, the given binary triplet represents the color ivory.\n",
    "\n",
    "Question 23: A flowchart is a way to visually represent an algorithm. The flowchart below is used by an application to set the Boolean variable available to true under certain conditions. The flowchart uses the Boolean variable weekday and the integer variable miles. Which of the following statements is equivalent to the algorithm in the flowchart?\n",
    "\n",
    "Correct Answer: D\n",
    "\n",
    "The flowchart sets available to true whenever weekday is true and miles is less than 20, and sets available to false otherwise. This code statement provides the same functionality.\n",
    "\n",
    "Question 40: Which of the following best explains how a certificate authority is used in protecting data?\n",
    "\n",
    "Correct Answer: D\n",
    "\n",
    "A certificate authority verifies the authenticity of encryption keys used in secured communications.\n",
    "\n",
    "Question 42: A programmer wants to determine whether a score is within 10 points of a given target. For example, if the target is 50, then the scores 40, 44, 50, 58, and 60 are all within 10 points of the target, while 38 and 61 are not. Which of the following Boolean expressions will evaluate to true if and only if score is within 10 points of target?\n",
    "\n",
    "Correct Answer: D\n",
    "\n",
    "This Boolean expression is true if and only if score is between target - 10 and target + 10, inclusive. Therefore, it evaluates to true if and only if score is in the desired range.\n",
    "\n",
    "Question 63: A store employee wants to calculate the total amount of money the store will receive if they sell all of the available science fiction books. Which columns in the database can be ignored and still allow the employee to perform this calculation?\n",
    "\n",
    "Correct Answer: B and A\n",
    "\n",
    "A: In order to perform the desired calculation, the selling price, the genre, and the quantity available are needed. The author is not needed.\n",
    "\n",
    "\n",
    "\n"
   ]
  }
 ],
 "metadata": {
  "language_info": {
   "name": "python"
  }
 },
 "nbformat": 4,
 "nbformat_minor": 2
}
