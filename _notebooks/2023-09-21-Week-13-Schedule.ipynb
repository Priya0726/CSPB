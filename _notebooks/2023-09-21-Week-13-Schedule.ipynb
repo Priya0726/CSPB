{
 "cells": [
  {
   "cell_type": "markdown",
   "metadata": {},
   "source": [
    "---\n",
    "toc: true\n",
    "comments: false\n",
    "layout: post\n",
    "title: Week 13 Schedule\n",
    "description: My Plan and accomplishments for Week 13\n",
    "courses: { csp: {week: 13} }\n",
    "type: Plans\n",
    "---"
   ]
  },
  {
   "cell_type": "markdown",
   "metadata": {},
   "source": []
  }
 ],
 "metadata": {
  "language_info": {
   "name": "python"
  }
 },
 "nbformat": 4,
 "nbformat_minor": 2
}
