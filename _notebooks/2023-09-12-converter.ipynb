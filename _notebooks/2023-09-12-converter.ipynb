{
 "cells": [
  {
   "cell_type": "markdown",
   "metadata": {},
   "source": [
    "---\n",
    "toc: true\n",
    "comments: false\n",
    "layout: post\n",
    "title: Measurement Converter\n",
    "description: A tool that helps with measurement conversions.\n",
    "courses: { CSP: {week: 4} }\n",
    "type: hacks\n",
    "---"
   ]
  },
  {
   "cell_type": "code",
   "execution_count": null,
   "metadata": {},
   "outputs": [],
   "source": [
    "\n",
    "# Define a dictionary for converting cups to ounces\n",
    "cups_to_ounces = {\n",
    "    1: 8,       # 1 cup = 8 ounces\n",
    "    0.5: 4,     # 0.5 cups = 4 ounces\n",
    "    0.25: 2,    # 0.25 cups = 2 ounces\n",
    "    0.125: 1,   # 0.125 cups = 1 ounce\n",
    "    # Add more conversions as needed\n",
    "}\n",
    "\n",
    "\n",
    "# Function to perform the cup to ounce conversion\n",
    "def convert_cups_to_ounces(cups):\n",
    "    if cups in cups_to_ounces:\n",
    "        return cups * cups_to_ounces[cups]\n",
    "    else:\n",
    "        return \"Conversion not available\"\n",
    "\n",
    "\n",
    "# Main program\n",
    "if __name__ == \"__main__\":\n",
    "    while True:\n",
    "        try:\n",
    "            cups_value = float(input(\"Enter the number of cups (or '0' to exit): \"))\n",
    "            if cups_value == 0:\n",
    "                break\n",
    "            ounces_value = convert_cups_to_ounces(cups_value)\n",
    "            print(f\"{cups_value} cups is equal to {ounces_value} ounces\")\n",
    "        except ValueError:\n",
    "            print(\"Invalid input. Please enter a valid number of cups.\")"
   ]
  }
 ],
 "metadata": {
  "language_info": {
   "name": "python"
  },
  "orig_nbformat": 4
 },
 "nbformat": 4,
 "nbformat_minor": 2
}
